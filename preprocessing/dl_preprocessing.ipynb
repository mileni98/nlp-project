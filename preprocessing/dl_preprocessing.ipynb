{
 "cells": [
  {
   "cell_type": "code",
   "execution_count": 3,
   "metadata": {},
   "outputs": [],
   "source": [
    "import re\n",
    "import contractions # expand contractions, possibly switch to pyconstractions\n",
    "import pandas as pd\n",
    "import matplotlib.pyplot as plt\n",
    "\n",
    "from nltk.tag import pos_tag\n",
    "from nltk.stem import PorterStemmer\n",
    "from spellchecker import SpellChecker\n",
    "from nltk.stem import WordNetLemmatizer\n",
    "from nltk.tokenize import word_tokenize\n",
    "from nltk.corpus import stopwords, wordnet"
   ]
  },
  {
   "cell_type": "markdown",
   "metadata": {},
   "source": [
    "Install additional libraires from README file"
   ]
  },
  {
   "cell_type": "markdown",
   "metadata": {},
   "source": [
    "### Dataset Analysis"
   ]
  },
  {
   "cell_type": "code",
   "execution_count": 4,
   "metadata": {},
   "outputs": [
    {
     "data": {
      "text/html": [
       "<div>\n",
       "<style scoped>\n",
       "    .dataframe tbody tr th:only-of-type {\n",
       "        vertical-align: middle;\n",
       "    }\n",
       "\n",
       "    .dataframe tbody tr th {\n",
       "        vertical-align: top;\n",
       "    }\n",
       "\n",
       "    .dataframe thead th {\n",
       "        text-align: right;\n",
       "    }\n",
       "</style>\n",
       "<table border=\"1\" class=\"dataframe\">\n",
       "  <thead>\n",
       "    <tr style=\"text-align: right;\">\n",
       "      <th></th>\n",
       "      <th>review</th>\n",
       "      <th>sentiment</th>\n",
       "    </tr>\n",
       "  </thead>\n",
       "  <tbody>\n",
       "    <tr>\n",
       "      <th>0</th>\n",
       "      <td>One of the other reviewers has mentioned that ...</td>\n",
       "      <td>positive</td>\n",
       "    </tr>\n",
       "    <tr>\n",
       "      <th>1</th>\n",
       "      <td>A wonderful little production. &lt;br /&gt;&lt;br /&gt;The...</td>\n",
       "      <td>positive</td>\n",
       "    </tr>\n",
       "    <tr>\n",
       "      <th>2</th>\n",
       "      <td>I thought this was a wonderful way to spend ti...</td>\n",
       "      <td>positive</td>\n",
       "    </tr>\n",
       "  </tbody>\n",
       "</table>\n",
       "</div>"
      ],
      "text/plain": [
       "                                              review sentiment\n",
       "0  One of the other reviewers has mentioned that ...  positive\n",
       "1  A wonderful little production. <br /><br />The...  positive\n",
       "2  I thought this was a wonderful way to spend ti...  positive"
      ]
     },
     "execution_count": 4,
     "metadata": {},
     "output_type": "execute_result"
    }
   ],
   "source": [
    "# Set folder path to the dataset\n",
    "path = '../data/'\n",
    "\n",
    "# Read data file into a DataFrame\n",
    "raw_df = pd.read_csv(path + 'imdb_dataset.csv')\n",
    "raw_df.head(3)"
   ]
  },
  {
   "cell_type": "code",
   "execution_count": 5,
   "metadata": {},
   "outputs": [
    {
     "name": "stdout",
     "output_type": "stream",
     "text": [
      "Shape of x_raw_df: (46500,)\n",
      "Unique classes in y_raw_df: ['positive' 'negative']\n",
      "Representation of each class: sentiment\n",
      "positive    25000\n",
      "negative    21500\n",
      "Name: count, dtype: int64\n"
     ]
    }
   ],
   "source": [
    "# Split DataFrame into reviews and sentiment\n",
    "x_raw_df = raw_df.iloc[:,0]\n",
    "y_raw_df = raw_df.iloc[:,1]\n",
    "\n",
    "# Print the number of rows and columns in reviews DataFrame\n",
    "print('Shape of x_raw_df:', x_raw_df.shape)\n",
    "\n",
    "# Print the unique classes from sentiment, and check if classes are balanced \n",
    "print('Unique classes in y_raw_df:', y_raw_df.unique())\n",
    "print('Representation of each class:', y_raw_df.value_counts())"
   ]
  },
  {
   "cell_type": "markdown",
   "metadata": {},
   "source": [
    "### Define functions needed for cleaning"
   ]
  },
  {
   "cell_type": "code",
   "execution_count": 6,
   "metadata": {},
   "outputs": [],
   "source": [
    "def initialize_objects(language = 'english', spell_distance = 1):\n",
    "    \n",
    "    # Initialize SpellChecker with a maximum Levenshtein distance of 1\n",
    "    spell = SpellChecker(distance = spell_distance) # For longer words 1 is recommended, try 2 for shorter\n",
    "\n",
    "    return spell"
   ]
  },
  {
   "cell_type": "code",
   "execution_count": 7,
   "metadata": {},
   "outputs": [],
   "source": [
    "def correct_spelling(df, column_name, spell_checker):\n",
    "\n",
    "    # Create a temporary column to store the original values for later comparison\n",
    "    df['temp'] = df[column_name]\n",
    "\n",
    "    # Apply spell checker to each word in the specified column\n",
    "    df[column_name] = df[column_name].apply(lambda x: ' '.join([spell_checker.correction(word) or word for word in x.split()]))\n",
    "    \n",
    "    # For each row, compare each word and calculate the sum of differences\n",
    "    df['differences'] = df.apply(lambda x: sum(w1.lower() != w2.lower() for w1, w2 in zip(x[column_name].split(), x['temp'].split())), axis=1)\n",
    "\n",
    "    # Show fixed word\n",
    "    #df['differences'], df['s'] = zip(*df.apply(lambda x: (sum(w1.lower() != w2.lower() for w1, w2 in zip(x[column_name].split(), x['temp'].split())), [w2 for w1, w2 in zip(x[column_name].split(), x['temp'].split()) if w1.lower() != w2.lower()]), axis=1))\n",
    "\n",
    "    # Calculate the total sum of spelling differences across all rows\n",
    "    total_differences = df['differences'].sum()\n",
    "\n",
    "    # Drop the temporary column not to waste space\n",
    "    df.drop(columns=['temp', 'differences'], inplace=True)\n",
    "    \n",
    "    return df, total_differences"
   ]
  },
  {
   "cell_type": "code",
   "execution_count": 8,
   "metadata": {},
   "outputs": [],
   "source": [
    "def preprocess_data(df, column_name):\n",
    "    \n",
    "    spell = initialize_objects()\n",
    "\n",
    "    # Make a copy of the DataFrame to avoid modifying the original\n",
    "    modified_df = df.copy()\n",
    "\n",
    "    # Function that checks spelling for every word and corrects misspelled ones\n",
    "    modified_df, g = correct_spelling(modified_df, column_name, spell)\n",
    "    print('\\tNumber of spelling mistakes that got corrected:', g)\n",
    "\n",
    "    return modified_df"
   ]
  },
  {
   "cell_type": "markdown",
   "metadata": {},
   "source": [
    "### Apply cleaning functions and export datasets"
   ]
  },
  {
   "cell_type": "code",
   "execution_count": 9,
   "metadata": {},
   "outputs": [],
   "source": [
    "# Create a new DataFrame to have original one as a backup\n",
    "modified_df = pd.DataFrame()\n",
    "modified_df['review'] = raw_df['review']\n",
    "modified_df['cleaned_review'] = raw_df['review']\n",
    "\n",
    "# Drop review column, and add sentiment column from the original dataset\n",
    "modified_df.drop(columns = 'review', inplace = True)\n",
    "modified_df['sentiment'] = y_raw_df"
   ]
  },
  {
   "cell_type": "code",
   "execution_count": 10,
   "metadata": {},
   "outputs": [
    {
     "name": "stdout",
     "output_type": "stream",
     "text": [
      "\tNumber of spelling mistakes that got corrected: 1113765\n"
     ]
    },
    {
     "data": {
      "text/html": [
       "<div>\n",
       "<style scoped>\n",
       "    .dataframe tbody tr th:only-of-type {\n",
       "        vertical-align: middle;\n",
       "    }\n",
       "\n",
       "    .dataframe tbody tr th {\n",
       "        vertical-align: top;\n",
       "    }\n",
       "\n",
       "    .dataframe thead th {\n",
       "        text-align: right;\n",
       "    }\n",
       "</style>\n",
       "<table border=\"1\" class=\"dataframe\">\n",
       "  <thead>\n",
       "    <tr style=\"text-align: right;\">\n",
       "      <th></th>\n",
       "      <th>cleaned_review</th>\n",
       "      <th>sentiment</th>\n",
       "    </tr>\n",
       "  </thead>\n",
       "  <tbody>\n",
       "    <tr>\n",
       "      <th>0</th>\n",
       "      <td>One of the other reviewers has mentioned that ...</td>\n",
       "      <td>positive</td>\n",
       "    </tr>\n",
       "    <tr>\n",
       "      <th>1</th>\n",
       "      <td>A wonderful little production &lt;br /&gt;&lt;br /&gt;The ...</td>\n",
       "      <td>positive</td>\n",
       "    </tr>\n",
       "    <tr>\n",
       "      <th>2</th>\n",
       "      <td>I thought this was a wonderful way to spend ti...</td>\n",
       "      <td>positive</td>\n",
       "    </tr>\n",
       "    <tr>\n",
       "      <th>3</th>\n",
       "      <td>better matter's love in the Time of money is a...</td>\n",
       "      <td>positive</td>\n",
       "    </tr>\n",
       "    <tr>\n",
       "      <th>4</th>\n",
       "      <td>Probably my all-time favorite movie a story of...</td>\n",
       "      <td>positive</td>\n",
       "    </tr>\n",
       "  </tbody>\n",
       "</table>\n",
       "</div>"
      ],
      "text/plain": [
       "                                      cleaned_review sentiment\n",
       "0  One of the other reviewers has mentioned that ...  positive\n",
       "1  A wonderful little production <br /><br />The ...  positive\n",
       "2  I thought this was a wonderful way to spend ti...  positive\n",
       "3  better matter's love in the Time of money is a...  positive\n",
       "4  Probably my all-time favorite movie a story of...  positive"
      ]
     },
     "execution_count": 10,
     "metadata": {},
     "output_type": "execute_result"
    }
   ],
   "source": [
    "# Set folder path to the dataset and an incremental variable\n",
    "path = '../data/'\n",
    " \n",
    "# Pricess the data\n",
    "processed_df = preprocess_data(modified_df, 'cleaned_review')\n",
    "    \n",
    "processed_df.head()   \n"
   ]
  },
  {
   "cell_type": "code",
   "execution_count": null,
   "metadata": {},
   "outputs": [],
   "source": [
    "# Save the processed DataFrame to CSV\n",
    "processed_df.to_csv('imdb_dataset_spell_T', index = False)"
   ]
  },
  {
   "cell_type": "code",
   "execution_count": null,
   "metadata": {},
   "outputs": [],
   "source": []
  },
  {
   "cell_type": "code",
   "execution_count": null,
   "metadata": {},
   "outputs": [],
   "source": [
    "### Dataset Analysis\n",
    "# Set folder path to the dataset\n",
    "path = '../data/'\n",
    "\n",
    "# Read data file into a DataFrame\n",
    "raw_df = pd.read_csv(path + 'imdb_dataset.csv')\n",
    "raw_df.head(3)\n",
    "# Split DataFrame into reviews and sentiment\n",
    "x_raw_df = raw_df.iloc[:,0]\n",
    "y_raw_df = raw_df.iloc[:,1]\n",
    "\n",
    "# Print the number of rows and columns in reviews DataFrame\n",
    "print('Shape of x_raw_df:', x_raw_df.shape)\n",
    "\n",
    "# Print the unique classes from sentiment, and check if classes are balanced \n",
    "print('Unique classes in y_raw_df:', y_raw_df.unique())\n",
    "print('Representation of each class:', y_raw_df.value_counts())\n",
    "### Define functions needed for cleaning\n",
    "\n",
    "\n",
    "def clean_text(df, column_name):  \n",
    "\n",
    "    # Define regular expressions for cleaning\n",
    "    url_expression, tags_expression, others_expression, apostrophe_expression, underscore_expression = r'https?://\\S+', r'<.*?>', r'[^\\w\\s\\d]', r'\\'', r'_+'\n",
    "        \n",
    "    # Count occurances before cleaning and apply cleaning for URLs \n",
    "    count_url = count_expression(df, column_name, url_expression)\n",
    "    df[column_name] = df[column_name].apply(lambda x: re.sub(url_expression, ' ', x))\n",
    "\n",
    "    # Count occurances before cleaning and apply cleaning for tags \n",
    "    count_tags = count_expression(df, column_name, tags_expression)\n",
    "    df[column_name] = df[column_name].apply(lambda x: re.sub(tags_expression, ' ', x))\n",
    "\n",
    "    # Count occurances before cleaning and apply cleaning for non-word and non-whitespace characters\n",
    "    count_other = count_expression(df, column_name, others_expression) + count_expression(df, column_name, apostrophe_expression) + count_expression(df, column_name, underscore_expression)\n",
    "    df[column_name] = df[column_name].apply(lambda x: re.sub(apostrophe_expression, '', x)) # don't -> dont \n",
    "    df[column_name] = df[column_name].apply(lambda x: re.sub(underscore_expression, ' ', x))\n",
    "    df[column_name] = df[column_name].apply(lambda x: re.sub(others_expression, ' ', x))\n",
    "    \n",
    "    return df, count_url, count_tags, count_other\n",
    "\n",
    "\n",
    "\n",
    "def preprocess_data(df, column_name):\n",
    "    \n",
    "    spell = initialize_objects()\n",
    "\n",
    "    # Make a copy of the DataFrame to avoid modifying the original\n",
    "    modified_df = df.copy()\n",
    "\n",
    "    # Function that checks spelling for every word and corrects misspelled ones\n",
    "    modified_df, g = correct_spelling(modified_df, column_name, spell)\n",
    "    print('\\tNumber of spelling mistakes that got corrected:', g)\n",
    "\n",
    "    return modified_df\n",
    "### Apply cleaning functions and export datasets\n",
    "# Create a new DataFrame to have original one as a backup\n",
    "modified_df = pd.DataFrame()\n",
    "modified_df['review'] = raw_df['review']\n",
    "modified_df['cleaned_review'] = raw_df['review']\n",
    "\n",
    "# Drop review column, and add sentiment column from the original dataset\n",
    "modified_df.drop(columns = 'review', inplace = True)\n",
    "modified_df['sentiment'] = y_raw_df\n",
    "# Set folder path to the dataset and an incremental variable\n",
    "path = '../data/'\n",
    " \n",
    "# Pricess the data\n",
    "processed_df = preprocess_data(modified_df, 'cleaned_review')\n",
    "    \n",
    "processed_df.head()   \n",
    "\n",
    "# Save the processed DataFrame to CSV\n",
    "processed_df.to_csv('imdb_dataset_spell_T', index = False)"
   ]
  }
 ],
 "metadata": {
  "kernelspec": {
   "display_name": "base",
   "language": "python",
   "name": "python3"
  },
  "language_info": {
   "codemirror_mode": {
    "name": "ipython",
    "version": 3
   },
   "file_extension": ".py",
   "mimetype": "text/x-python",
   "name": "python",
   "nbconvert_exporter": "python",
   "pygments_lexer": "ipython3",
   "version": "3.11.5"
  }
 },
 "nbformat": 4,
 "nbformat_minor": 2
}
