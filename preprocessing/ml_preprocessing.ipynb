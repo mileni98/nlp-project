{
 "cells": [
  {
   "cell_type": "code",
   "execution_count": 1,
   "id": "fa37e6bd",
   "metadata": {},
   "outputs": [],
   "source": [
    "import re\n",
    "import contractions # expand contractions, possibly switch to pyconstractions\n",
    "import pandas as pd\n",
    "import matplotlib.pyplot as plt\n",
    "\n",
    "from nltk.tag import pos_tag\n",
    "from nltk.stem import PorterStemmer\n",
    "from spellchecker import SpellChecker\n",
    "from nltk.stem import WordNetLemmatizer\n",
    "from nltk.tokenize import word_tokenize\n",
    "from nltk.corpus import stopwords, wordnet"
   ]
  },
  {
   "cell_type": "markdown",
   "id": "92f474f3",
   "metadata": {},
   "source": [
    "Install additional libraires from README file"
   ]
  },
  {
   "cell_type": "markdown",
   "id": "61a9defc",
   "metadata": {},
   "source": [
    "### Dataset Analysis"
   ]
  },
  {
   "cell_type": "code",
   "execution_count": 3,
   "id": "a9fafcd3",
   "metadata": {},
   "outputs": [
    {
     "data": {
      "text/html": [
       "<div>\n",
       "<style scoped>\n",
       "    .dataframe tbody tr th:only-of-type {\n",
       "        vertical-align: middle;\n",
       "    }\n",
       "\n",
       "    .dataframe tbody tr th {\n",
       "        vertical-align: top;\n",
       "    }\n",
       "\n",
       "    .dataframe thead th {\n",
       "        text-align: right;\n",
       "    }\n",
       "</style>\n",
       "<table border=\"1\" class=\"dataframe\">\n",
       "  <thead>\n",
       "    <tr style=\"text-align: right;\">\n",
       "      <th></th>\n",
       "      <th>review</th>\n",
       "      <th>sentiment</th>\n",
       "    </tr>\n",
       "  </thead>\n",
       "  <tbody>\n",
       "    <tr>\n",
       "      <th>0</th>\n",
       "      <td>One of the other reviewers has mentioned that ...</td>\n",
       "      <td>positive</td>\n",
       "    </tr>\n",
       "    <tr>\n",
       "      <th>1</th>\n",
       "      <td>A wonderful little production. &lt;br /&gt;&lt;br /&gt;The...</td>\n",
       "      <td>positive</td>\n",
       "    </tr>\n",
       "    <tr>\n",
       "      <th>2</th>\n",
       "      <td>I thought this was a wonderful way to spend ti...</td>\n",
       "      <td>positive</td>\n",
       "    </tr>\n",
       "  </tbody>\n",
       "</table>\n",
       "</div>"
      ],
      "text/plain": [
       "                                              review sentiment\n",
       "0  One of the other reviewers has mentioned that ...  positive\n",
       "1  A wonderful little production. <br /><br />The...  positive\n",
       "2  I thought this was a wonderful way to spend ti...  positive"
      ]
     },
     "execution_count": 3,
     "metadata": {},
     "output_type": "execute_result"
    }
   ],
   "source": [
    "# Set folder path to the dataset\n",
    "path = '../data/'\n",
    "\n",
    "# Read data file into a DataFrame\n",
    "raw_df = pd.read_csv(path + 'imdb_dataset.csv')\n",
    "raw_df.head(3)"
   ]
  },
  {
   "cell_type": "code",
   "execution_count": 4,
   "metadata": {},
   "outputs": [
    {
     "name": "stdout",
     "output_type": "stream",
     "text": [
      "Shape: (46500, 2)\n",
      "Missing values: 0\n"
     ]
    }
   ],
   "source": [
    "# Print the number of rows and columns in the DataFrame\n",
    "print('Shape:', raw_df.shape)\n",
    "\n",
    "# Calculate the amount of missing values in the DataFrame\n",
    "print('Missing values:', raw_df.isnull().sum().sum())"
   ]
  },
  {
   "cell_type": "code",
   "execution_count": 5,
   "id": "6eff62aa",
   "metadata": {},
   "outputs": [
    {
     "name": "stdout",
     "output_type": "stream",
     "text": [
      "Shape of x_raw_df: (46500,)\n",
      "Unique classes in y_raw_df: ['positive' 'negative']\n",
      "Representation of each class: sentiment\n",
      "positive    25000\n",
      "negative    21500\n",
      "Name: count, dtype: int64\n"
     ]
    }
   ],
   "source": [
    "# Split DataFrame into reviews and sentiment\n",
    "x_raw_df = raw_df.iloc[:,0]\n",
    "y_raw_df = raw_df.iloc[:,1]\n",
    "\n",
    "# Print the number of rows and columns in reviews DataFrame\n",
    "print('Shape of x_raw_df:', x_raw_df.shape)\n",
    "\n",
    "# Print the unique classes from sentiment, and check if classes are balanced \n",
    "print('Unique classes in y_raw_df:', y_raw_df.unique())\n",
    "print('Representation of each class:', y_raw_df.value_counts())"
   ]
  },
  {
   "cell_type": "code",
   "execution_count": 6,
   "metadata": {},
   "outputs": [
    {
     "name": "stdout",
     "output_type": "stream",
     "text": [
      "Total number of words in dataset: 10749531\n"
     ]
    }
   ],
   "source": [
    "# Calculate the number of words in each row\n",
    "x_raw_df['word_count'] = raw_df['review'].apply(lambda x: len(str(x).split()))\n",
    "x_raw_df['word_count'].head()\n",
    "\n",
    "# Calculate the total sum of words\n",
    "total_word_count = x_raw_df['word_count'].sum()\n",
    "\n",
    "# Display the count\n",
    "print('Total number of words in dataset:', total_word_count)"
   ]
  },
  {
   "cell_type": "code",
   "execution_count": 7,
   "id": "5de92b23",
   "metadata": {},
   "outputs": [],
   "source": [
    "# Replace sentiment labels with numbers, to ensure easier work\n",
    "y_raw_df = y_raw_df.replace({'negative':0, 'positive':1})"
   ]
  },
  {
   "cell_type": "code",
   "execution_count": 8,
   "metadata": {},
   "outputs": [
    {
     "data": {
      "image/png": "[encoded data removed]",
      "text/plain": [
       "<Figure size 640x480 with 1 Axes>"
      ]
     },
     "metadata": {},
     "output_type": "display_data"
    }
   ],
   "source": [
    "# Histogram representing review length distribution\n",
    "plt.bar(x_raw_df['word_count'].value_counts().index, x_raw_df['word_count'].value_counts().values)\n",
    "plt.xlabel('Number of Words')\n",
    "plt.ylabel('Number of Documents')\n",
    "plt.title('Histogram of Review lenthg Distribution')\n",
    "plt.show()"
   ]
  },
  {
   "cell_type": "markdown",
   "id": "fea5082f",
   "metadata": {},
   "source": [
    "### Define functions needed for cleaning"
   ]
  },
  {
   "cell_type": "code",
   "execution_count": 9,
   "id": "1d2c791d",
   "metadata": {},
   "outputs": [],
   "source": [
    "def initialize_objects(language = 'english', spell_distance = 1):\n",
    "    \n",
    "    # Define language for a dictionary to be used for removal of stop words\n",
    "    stop = stopwords.words(language)\n",
    "\n",
    "    # Initialize SpellChecker with a maximum Levenshtein distance of 1\n",
    "    spell = SpellChecker(distance = spell_distance) # For longer words 1 is recommended, try 2 for shorter\n",
    "\n",
    "    # Initialize the Porter Stemmer for stemming\n",
    "    stemmer = PorterStemmer()\n",
    "\n",
    "    # Initialize the WordNet lematizer\n",
    "    lemmatizer = WordNetLemmatizer()\n",
    "\n",
    "    return stop, spell, stemmer, lemmatizer"
   ]
  },
  {
   "cell_type": "code",
   "execution_count": 10,
   "id": "1c8f4ca8",
   "metadata": {},
   "outputs": [],
   "source": [
    "def count_unique_words(df, column_name):\n",
    "\n",
    "    # Flatten the list of words in given column\n",
    "    all_words = [word for x in df[column_name] for word in x]    \n",
    "\n",
    "    # Calculate the number of unique words\n",
    "    unique_words = len(set(all_words))\n",
    "\n",
    "    return unique_words"
   ]
  },
  {
   "cell_type": "code",
   "execution_count": 11,
   "id": "4dd96ed1",
   "metadata": {},
   "outputs": [],
   "source": [
    "def lowercase_text(df, column_name):\n",
    "\n",
    "    # Use the apply method to convert each text entry to lowercase\n",
    "    df[column_name] = df[column_name].apply(lambda x: x.lower())\n",
    "\n",
    "    return df"
   ]
  },
  {
   "cell_type": "code",
   "execution_count": 12,
   "id": "7b1b1cde",
   "metadata": {},
   "outputs": [],
   "source": [
    "def count_expression(df, column_name, expression):\n",
    "\n",
    "    # Create a temporary column to store the counts\n",
    "    df['temp'] = df[column_name].apply(lambda x: len(re.findall(expression, x)))\n",
    "    \n",
    "    # Calculate the total sum of occurrences across all rows\n",
    "    total_occurrences = df['temp'].sum()\n",
    "    \n",
    "    # Drop the temporary column not to waste space\n",
    "    df.drop(columns = ['temp'], inplace=True)\n",
    "\n",
    "    return total_occurrences"
   ]
  },
  {
   "cell_type": "code",
   "execution_count": 13,
   "id": "6bc8a839",
   "metadata": {},
   "outputs": [],
   "source": [
    "def split_contractions(df, column_name):    \n",
    "\n",
    "    # Define a regular expression to identify contractions, considering cases where there is a letter before and after the apostrophe\n",
    "    # For example, \"don't\" is considered a contraction, but cases like \"t ' \" are ignored as potential typos\n",
    "    apostrophe_expression = r'[a-zA-Z]\\'[a-zA-Z]'\n",
    "\n",
    "    # Count the number of contractions before fixing\n",
    "    count_before = count_expression(df, column_name, apostrophe_expression)\n",
    "\n",
    "    # Apply fix function to expand contractions\n",
    "    df[column_name] = df[column_name].apply(contractions.fix)\n",
    "\n",
    "    # Count the number of contractions after fixing\n",
    "    count_after = count_expression(df, column_name, apostrophe_expression)\n",
    "\n",
    "    return df, count_before, count_after"
   ]
  },
  {
   "cell_type": "code",
   "execution_count": 14,
   "id": "8163aaf8",
   "metadata": {},
   "outputs": [],
   "source": [
    "def replace_smiley(df, column_name):  \n",
    "\n",
    "    # Define regular expressions to identify symbols for smileys\n",
    "    sad_expression, happy_expression = r':\\(', r':\\)'\n",
    "\n",
    "    # Count the number of occurances of happy and sad smiley before replacing\n",
    "    count_sad = count_expression(df, column_name, sad_expression)\n",
    "    count_happy = count_expression(df, column_name, happy_expression)\n",
    "\n",
    "    # Replace :) and :( with happy and sad\n",
    "    df[column_name] = df[column_name].apply(lambda x: re.sub(sad_expression, ' sad ', x))    \n",
    "    df[column_name] = df[column_name].apply(lambda x: re.sub(happy_expression, ' happy ', x))\n",
    "\n",
    "    return df, count_sad, count_happy"
   ]
  },
  {
   "cell_type": "code",
   "execution_count": 15,
   "id": "acda01bd",
   "metadata": {},
   "outputs": [],
   "source": [
    "def clean_text(df, column_name):  \n",
    "\n",
    "    # Define regular expressions for cleaning\n",
    "    url_expression, tags_expression, others_expression, apostrophe_expression, underscore_expression = r'https?://\\S+', r'<.*?>', r'[^\\w\\s\\d]', r'\\'', r'_+'\n",
    "        \n",
    "    # Count occurances before cleaning and apply cleaning for URLs \n",
    "    count_url = count_expression(df, column_name, url_expression)\n",
    "    df[column_name] = df[column_name].apply(lambda x: re.sub(url_expression, ' ', x))\n",
    "\n",
    "    # Count occurances before cleaning and apply cleaning for tags \n",
    "    count_tags = count_expression(df, column_name, tags_expression)\n",
    "    df[column_name] = df[column_name].apply(lambda x: re.sub(tags_expression, ' ', x))\n",
    "\n",
    "    # Count occurances before cleaning and apply cleaning for non-word and non-whitespace characters\n",
    "    count_other = count_expression(df, column_name, others_expression) + count_expression(df, column_name, apostrophe_expression) + count_expression(df, column_name, underscore_expression)\n",
    "    df[column_name] = df[column_name].apply(lambda x: re.sub(apostrophe_expression, '', x)) # don't -> dont \n",
    "    df[column_name] = df[column_name].apply(lambda x: re.sub(underscore_expression, ' ', x))\n",
    "    df[column_name] = df[column_name].apply(lambda x: re.sub(others_expression, ' ', x))\n",
    "    \n",
    "    return df, count_url, count_tags, count_other"
   ]
  },
  {
   "cell_type": "code",
   "execution_count": 16,
   "id": "26c094aa",
   "metadata": {},
   "outputs": [],
   "source": [
    "def remove_digits(df, column_name):\n",
    "\n",
    "    # Define a regular expression to identify digits for cleaning\n",
    "    digits_expression =  r'[\\d]'\n",
    "\n",
    "    # Count the number of occurances of digits before removing them\n",
    "    count_digits = count_expression(df, column_name, digits_expression)\n",
    "\n",
    "    # Remove digits\n",
    "    df[column_name] = df[column_name].apply(lambda x:re.sub(digits_expression, ' ', x))\n",
    "\n",
    "    return df, count_digits"
   ]
  },
  {
   "cell_type": "code",
   "execution_count": 17,
   "metadata": {},
   "outputs": [],
   "source": [
    "def replace_digits(df, column_name):\n",
    "    \n",
    "    # Define a regular expression to identify digits to be replaced, add 'Rating out of' \n",
    "    digit_expression = r'(\\d)\\s*/\\s*(5|10)|(10\\s*/\\s*10)'\n",
    "\n",
    "    # Count the number of occurances of expressions before removing them\n",
    "    count_digit = count_expression(df, column_name, digit_expression)\n",
    "    \n",
    "    # Function that replaces matched digits with corresponding words\n",
    "    def replace_digit_func(match):\n",
    "        \n",
    "        # Extract digits from the matched groups in () from expressions, and handle None cases\n",
    "        digit = int(match.group(1)) if match.group(1) is not None else None\n",
    "        digit2 = int(match.group(2)) if match.group(2) is not None else None\n",
    "\n",
    "        # Replace digits bases on different conditions handling /5 and /10 cases\n",
    "        if (digit2 == 10 and 1 <= digit <= 3) or (digit2 == 5 and 1 <= digit <= 2):\n",
    "            return ' Negative '\n",
    "        elif (digit2 == 10 and 4 <= digit <= 7) or (digit2 == 5 and digit == 3):\n",
    "            return ' Neutral '\n",
    "        elif match.group(3):\n",
    "            return ' Positive '\n",
    "        else:\n",
    "            return ' Positive '\n",
    "        \n",
    "    # Replace digits    \n",
    "    df[column_name] = df[column_name].apply(lambda x: re.sub(digit_expression, replace_digit_func, x))\n",
    "\n",
    "    return df, count_digit"
   ]
  },
  {
   "cell_type": "code",
   "execution_count": 18,
   "id": "18e9ddc7",
   "metadata": {},
   "outputs": [],
   "source": [
    "def correct_spelling(df, column_name, spell_checker):\n",
    "\n",
    "    # Create a temporary column to store the original values for later comparison\n",
    "    df['temp'] = df[column_name]\n",
    "\n",
    "    # Apply spell checker to each word in the specified column\n",
    "    df[column_name] = df[column_name].apply(lambda x: ' '.join([spell_checker.correction(word) or word for word in x.split()]))\n",
    "    \n",
    "    # For each row, compare each word and calculate the sum of differences\n",
    "    df['differences'] = df.apply(lambda x: sum(w1.lower() != w2.lower() for w1, w2 in zip(x[column_name].split(), x['temp'].split())), axis=1)\n",
    "\n",
    "    # Show fixed word\n",
    "    #df['differences'], df['s'] = zip(*df.apply(lambda x: (sum(w1.lower() != w2.lower() for w1, w2 in zip(x[column_name].split(), x['temp'].split())), [w2 for w1, w2 in zip(x[column_name].split(), x['temp'].split()) if w1.lower() != w2.lower()]), axis=1))\n",
    "\n",
    "    # Calculate the total sum of spelling differences across all rows\n",
    "    total_differences = df['differences'].sum()\n",
    "\n",
    "    # Drop the temporary column not to waste space\n",
    "    df.drop(columns=['temp', 'differences'], inplace=True)\n",
    "    \n",
    "    return df, total_differences"
   ]
  },
  {
   "cell_type": "code",
   "execution_count": 19,
   "id": "8c1e099e",
   "metadata": {},
   "outputs": [],
   "source": [
    "def tokenize_and_remove_stop(df, column_name, stop, remove_stop):\n",
    "\n",
    "    # Remove stop words if needed, otherwise only tokenize (break down text to individual words)\n",
    "    if remove_stop:\n",
    "        df[column_name] = df[column_name].apply(lambda x: [word for word in word_tokenize(x) if word.lower() not in stop])\n",
    "    else:\n",
    "        df[column_name] = df[column_name].apply(word_tokenize)\n",
    "\n",
    "    return df"
   ]
  },
  {
   "cell_type": "code",
   "execution_count": 20,
   "id": "f06841d0",
   "metadata": {},
   "outputs": [],
   "source": [
    "#def random_oversampling(raw_df):\n",
    "#    \n",
    "#    oversample = RandomOverSampler(sampling_strategy = 'minority')\n",
    "#\n",
    "#    x_raw_df = raw_df.iloc[:,0]\n",
    "#    y_raw_df = raw_df.iloc[:,1]\n",
    "#\n",
    "#    X_res, y_res = oversample.fit_resample(x_raw_df, y_raw_df)\n",
    "#\n",
    "#    return X_res, y_res"
   ]
  },
  {
   "cell_type": "code",
   "execution_count": 21,
   "id": "2df794ef",
   "metadata": {},
   "outputs": [],
   "source": [
    "def stemming(df, column_name, stemmer):\n",
    "   \n",
    "    # Apply stemming to each word in the specified column\n",
    "    df[column_name] = df[column_name].apply(lambda x: [stemmer.stem(word) for word in x])\n",
    "\n",
    "    return df"
   ]
  },
  {
   "cell_type": "code",
   "execution_count": 22,
   "id": "fc342183",
   "metadata": {},
   "outputs": [],
   "source": [
    "def get_wordnet_pos(treebank_tag):\n",
    "\n",
    "    # Map corresponding treebank tags to wordnet speech names, so that it can be read by the Lemmatizer \n",
    "    if treebank_tag.startswith('J'):\n",
    "        return wordnet.ADJ\n",
    "    if treebank_tag.startswith('V'):\n",
    "        return wordnet.VERB\n",
    "    if treebank_tag.startswith('N'):\n",
    "        return wordnet.NOUN\n",
    "    if treebank_tag.startswith('R'):\n",
    "        return wordnet.ADV\n",
    "    # Return noun as a default pos for lemmatization\n",
    "    else:\n",
    "        return wordnet.NOUN"
   ]
  },
  {
   "cell_type": "code",
   "execution_count": 23,
   "id": "46c1eeef",
   "metadata": {},
   "outputs": [],
   "source": [
    "def lemmatization(df, column_name, lemmatizer):\n",
    "\n",
    "    # Apply lemmatization with POS tagging to each word in previously tokenized columns, as it works better with pos\n",
    "    df[column_name] = df[column_name].apply(lambda x: [lemmatizer.lemmatize(word, pos = get_wordnet_pos(pos_tag)) for word, pos_tag in pos_tag(x)])\n",
    "\n",
    "    # This line includes pos information in the output as well\n",
    "    #df[column_name] = df[column_name].apply(lambda x: [(lemmatizer.lemmatize(word, pos = get_wordnet_pos(pos_tag)), get_wordnet_pos(pos_tag), word) for word, pos_tag in pos_tag(x)])\n",
    "\n",
    "    return df"
   ]
  },
  {
   "cell_type": "code",
   "execution_count": 24,
   "metadata": {},
   "outputs": [],
   "source": [
    "def preprocess_data(df, column_name, split_contractions_bool, correct_spelling_bool, stemming_bool):\n",
    "    \n",
    "    stop, spell, stemmer, lemmatizer = initialize_objects()\n",
    "\n",
    "    # Make a copy of the DataFrame to avoid modifying the original\n",
    "    modified_df = df.copy()\n",
    "\n",
    "    # Function that converts letters to lovercases\n",
    "    modified_df = lowercase_text(modified_df, column_name)\n",
    "\n",
    "    if split_contractions_bool:\n",
    "        # Function that expands contractions\n",
    "        modified_df, a, b = split_contractions(modified_df, column_name)\n",
    "        print('\\tNumber of \\' before fixing contractions: ', a,', number of \\' after fixing contractions: ', b, sep = '')\n",
    "\n",
    "    # Function that removes non-word and non-whitespace characters\n",
    "    modified_df, c, d, e = clean_text(modified_df, column_name)\n",
    "    print('\\tNumber of urls removed: ', c,', html tags removed: ', d, ', other characters removed: ', e, sep = '')\n",
    "\n",
    "    # Function that removes digits\n",
    "    modified_df, f = remove_digits(modified_df, column_name)\n",
    "    print('\\tNumber of digits removed:', f)\n",
    "\n",
    "    if correct_spelling_bool:\n",
    "        # Function that checks spelling for every word and corrects misspelled ones\n",
    "        modified_df, g = correct_spelling(modified_df, column_name, spell)\n",
    "        print('\\tNumber of spelling mistakes that got corrected:', g)\n",
    "\n",
    "    # Apply function that breaks down text to individual words\n",
    "    modified_df = tokenize_and_remove_stop(modified_df, column_name, stop, True)   \n",
    "\n",
    "    # Apply stemming or lemmatization based on the specified option\n",
    "    if stemming_bool == 'stem':\n",
    "        # # Apply function that shortens words by removing prefixes and sufixes\n",
    "        modified_df = stemming(modified_df, column_name, stemmer)\n",
    "    else:\n",
    "        # Apply function that reduces words to their root form based on their gramatical function in sentence\n",
    "        modified_df = lemmatization(modified_df, column_name, lemmatizer)\n",
    "\n",
    "    return modified_df"
   ]
  },
  {
   "cell_type": "markdown",
   "id": "721e09d3",
   "metadata": {},
   "source": [
    "### Apply cleaning functions and export datasets"
   ]
  },
  {
   "cell_type": "code",
   "execution_count": 25,
   "id": "0b6406fb",
   "metadata": {},
   "outputs": [],
   "source": [
    "# Create a new DataFrame to have original one as a backup\n",
    "modified_df = pd.DataFrame()\n",
    "modified_df['review'] = raw_df['review']\n",
    "modified_df['cleaned_review'] = raw_df['review']\n",
    "\n",
    "# Drop review column, and add sentiment column from the original dataset\n",
    "modified_df.drop(columns = 'review', inplace = True)\n",
    "modified_df['sentiment'] = y_raw_df"
   ]
  },
  {
   "cell_type": "code",
   "execution_count": 26,
   "metadata": {},
   "outputs": [
    {
     "name": "stdout",
     "output_type": "stream",
     "text": [
      "\n",
      "1. Split Contractions = True, Correct Spelling = True, Stemming/Lemmatization = stem\n",
      "\tNumber of ' before fixing contractions: 206833, number of ' after fixing contractions: 56341\n",
      "\tNumber of urls removed: 121, html tags removed: 187464, other characters removed: 1822452\n",
      "\tNumber of digits removed: 150344\n",
      "\tNumber of spelling mistakes that got corrected: 158244\n",
      "\n",
      "2. Split Contractions = True, Correct Spelling = True, Stemming/Lemmatization = lem\n",
      "\tNumber of ' before fixing contractions: 206833, number of ' after fixing contractions: 56341\n",
      "\tNumber of urls removed: 121, html tags removed: 187464, other characters removed: 1822452\n",
      "\tNumber of digits removed: 150344\n",
      "\tNumber of spelling mistakes that got corrected: 158244\n",
      "\n",
      "3. Split Contractions = True, Correct Spelling = False, Stemming/Lemmatization = stem\n",
      "\tNumber of ' before fixing contractions: 206833, number of ' after fixing contractions: 56341\n",
      "\tNumber of urls removed: 121, html tags removed: 187464, other characters removed: 1822452\n",
      "\tNumber of digits removed: 150344\n",
      "\n",
      "4. Split Contractions = True, Correct Spelling = False, Stemming/Lemmatization = lem\n",
      "\tNumber of ' before fixing contractions: 206833, number of ' after fixing contractions: 56341\n",
      "\tNumber of urls removed: 121, html tags removed: 187464, other characters removed: 1822452\n",
      "\tNumber of digits removed: 150344\n",
      "\n",
      "5. Split Contractions = False, Correct Spelling = True, Stemming/Lemmatization = stem\n",
      "\tNumber of urls removed: 121, html tags removed: 187464, other characters removed: 2124564\n",
      "\tNumber of digits removed: 150349\n",
      "\tNumber of spelling mistakes that got corrected: 192373\n",
      "\n",
      "6. Split Contractions = False, Correct Spelling = True, Stemming/Lemmatization = lem\n",
      "\tNumber of urls removed: 121, html tags removed: 187464, other characters removed: 2124564\n",
      "\tNumber of digits removed: 150349\n",
      "\tNumber of spelling mistakes that got corrected: 192373\n",
      "\n",
      "7. Split Contractions = False, Correct Spelling = False, Stemming/Lemmatization = stem\n",
      "\tNumber of urls removed: 121, html tags removed: 187464, other characters removed: 2124564\n",
      "\tNumber of digits removed: 150349\n",
      "\n",
      "8. Split Contractions = False, Correct Spelling = False, Stemming/Lemmatization = lem\n",
      "\tNumber of urls removed: 121, html tags removed: 187464, other characters removed: 2124564\n",
      "\tNumber of digits removed: 150349\n"
     ]
    }
   ],
   "source": [
    "# Set folder path to the dataset and an incremental variable\n",
    "path, i = '../data/', 0\n",
    "\n",
    "# Create a list of all possible combinations\n",
    "combinations = [(split_contractions_bool, correct_spelling_bool, stemming_bool) \n",
    "                for split_contractions_bool in [True, False]\n",
    "                for correct_spelling_bool in [True, False]\n",
    "                for stemming_bool in ['stem', 'lem']]\n",
    "\n",
    "# Iterate through combinations\n",
    "for split_contractions_bool, correct_spelling_bool, stemming_bool in combinations:\n",
    "    \n",
    "    i+=1\n",
    "     \n",
    "    # Print information about the current iteration \n",
    "    print(f\"\\n{i}. Split Contractions = {split_contractions_bool}, Correct Spelling = {correct_spelling_bool}, Stemming/Lemmatization = {stemming_bool}\")\n",
    "  \n",
    "    # Pricess the data\n",
    "    processed_df = preprocess_data(modified_df, 'cleaned_review', split_contractions_bool, correct_spelling_bool, stemming_bool)\n",
    "    \n",
    "    # Save the processed DataFrame to CSV\n",
    "    file_name = f'split_{str(split_contractions_bool)[0]}_spel_{str(correct_spelling_bool)[0]}_{stemming_bool}.csv'\n",
    "    processed_df.to_csv(path + file_name, index = False)"
   ]
  }
 ],
 "metadata": {
  "kernelspec": {
   "display_name": "Python 3 (ipykernel)",
   "language": "python",
   "name": "python3"
  },
  "language_info": {
   "codemirror_mode": {
    "name": "ipython",
    "version": 3
   },
   "file_extension": ".py",
   "mimetype": "text/x-python",
   "name": "python",
   "nbconvert_exporter": "python",
   "pygments_lexer": "ipython3",
   "version": "3.11.5"
  }
 },
 "nbformat": 4,
 "nbformat_minor": 5
}
